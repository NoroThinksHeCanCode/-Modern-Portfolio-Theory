{
 "cells": [
  {
   "cell_type": "code",
   "execution_count": 17,
   "metadata": {},
   "outputs": [],
   "source": [
    "import yfinance as yf\n",
    "import pandas as pd\n",
    "import numpy as np \n",
    "from datetime import datetime, timedelta\n",
    "import pandas_datareader as pdr\n",
    "import scipy.optimize as sc"
   ]
  },
  {
   "cell_type": "code",
   "execution_count": 18,
   "metadata": {},
   "outputs": [],
   "source": [
    "okk = ['INFY.NS', 'TATASTEEL.NS', 'ADANIENT.NS']"
   ]
  },
  {
   "cell_type": "code",
   "execution_count": 19,
   "metadata": {},
   "outputs": [],
   "source": [
    "end_date = datetime.now().date() \n",
    "start_date = end_date - timedelta(days=365)  \n",
    "\n",
    "\n",
    "df = pd.DataFrame()\n",
    "\n",
    "def data(tickers):\n",
    "    for ticker in tickers:\n",
    "        data = yf.download(ticker, start=start_date, end=end_date)\n",
    "        df[ticker] = data['Close']\n",
    "     \n",
    "    returns = df.pct_change()\n",
    "    meanReturns = returns.mean()\n",
    "    covMatrix = returns.cov()\n",
    "    return meanReturns, covMatrix\n"
   ]
  },
  {
   "cell_type": "code",
   "execution_count": 20,
   "metadata": {},
   "outputs": [],
   "source": [
    "def portfolio_performance(weights, meanReturns, covMatrix):\n",
    "    returns = np.sum(meanReturns*weights)*252\n",
    "    std = np.sqrt(np.dot(weights.T, np.dot(covMatrix, weights))) * np.sqrt(252)\n",
    "    return returns, std #This function returns a tuple with two values\n",
    "\n",
    "weights = np.array([0.3, 0.3, 0.4])"
   ]
  },
  {
   "cell_type": "code",
   "execution_count": 21,
   "metadata": {},
   "outputs": [
    {
     "name": "stderr",
     "output_type": "stream",
     "text": [
      "[*********************100%%**********************]  1 of 1 completed\n",
      "[*********************100%%**********************]  1 of 1 completed\n",
      "[*********************100%%**********************]  1 of 1 completed"
     ]
    },
    {
     "name": "stdout",
     "output_type": "stream",
     "text": [
      "37.6 24.42\n"
     ]
    },
    {
     "name": "stderr",
     "output_type": "stream",
     "text": [
      "\n"
     ]
    }
   ],
   "source": [
    "meanReturns, covMatrix = data(okk)\n",
    "returns, std = portfolio_performance(weights, meanReturns, covMatrix) \n",
    "print(round(returns*100,2),round(std*100,2)) "
   ]
  },
  {
   "cell_type": "code",
   "execution_count": 25,
   "metadata": {},
   "outputs": [],
   "source": [
    "def negativeSR(weights, meanReturns, covMatrix, riskFreeRate = 0):\n",
    "    preturns, pstd = portfolio_performance(weights, meanReturns, covMatrix) \n",
    "    return -(preturns - riskFreeRate)/ pstd # Sharpe ratio formula \n"
   ]
  },
  {
   "cell_type": "code",
   "execution_count": 26,
   "metadata": {},
   "outputs": [],
   "source": [
    "def maxSR(meanReturns, covMatrix, riskFreeRate, constraintSet=(0, 1)):\n",
    "    # Minimise the negative SR by altering the weights of the portfolio \n",
    "    numAssets = len(meanReturns)\n",
    "    args = (meanReturns, covMatrix, riskFreeRate)\n",
    "    constraints = {'type': 'eq', 'fun': lambda x: np.sum(x) - 1}\n",
    "    bounds = tuple(constraintSet for asset in range(numAssets))\n",
    "    initial_guess = numAssets * [1. / numAssets]\n",
    "    \n",
    "    result = sc.minimize(negativeSR, initial_guess, args=args, method='SLSQP', bounds=bounds, constraints=constraints)\n",
    "    return result"
   ]
  },
  {
   "cell_type": "code",
   "execution_count": 36,
   "metadata": {},
   "outputs": [
    {
     "ename": "TypeError",
     "evalue": "'numpy.float64' object is not callable",
     "output_type": "error",
     "traceback": [
      "\u001b[0;31m---------------------------------------------------------------------------\u001b[0m",
      "\u001b[0;31mTypeError\u001b[0m                                 Traceback (most recent call last)",
      "Cell \u001b[0;32mIn[36], line 1\u001b[0m\n\u001b[0;32m----> 1\u001b[0m result \u001b[38;5;241m=\u001b[39m \u001b[43mmaxSR\u001b[49m\u001b[43m(\u001b[49m\u001b[43mmeanReturns\u001b[49m\u001b[43m,\u001b[49m\u001b[43m \u001b[49m\u001b[43mcovMatrix\u001b[49m\u001b[43m,\u001b[49m\u001b[43m \u001b[49m\u001b[43mriskFreeRate\u001b[49m\u001b[43m \u001b[49m\u001b[38;5;241;43m=\u001b[39;49m\u001b[43m \u001b[49m\u001b[38;5;241;43m0\u001b[39;49m\u001b[43m \u001b[49m\u001b[43m)\u001b[49m\n\u001b[1;32m      2\u001b[0m maxSR, maxWeights \u001b[38;5;241m=\u001b[39m \u001b[38;5;241m-\u001b[39m result[\u001b[38;5;124m'\u001b[39m\u001b[38;5;124mfun\u001b[39m\u001b[38;5;124m'\u001b[39m], result[\u001b[38;5;124m'\u001b[39m\u001b[38;5;124mx\u001b[39m\u001b[38;5;124m'\u001b[39m]\n\u001b[1;32m      3\u001b[0m \u001b[38;5;28mprint\u001b[39m(maxSR, maxWeights)\n",
      "\u001b[0;31mTypeError\u001b[0m: 'numpy.float64' object is not callable"
     ]
    }
   ],
   "source": [
    "result = maxSR(meanReturns, covMatrix, riskFreeRate = 0 )\n",
    "maxSR, maxWeights = result['fun'], result['x']\n",
    "print(maxSR, maxWeights)"
   ]
  }
 ],
 "metadata": {
  "kernelspec": {
   "display_name": "Python 3",
   "language": "python",
   "name": "python3"
  },
  "language_info": {
   "codemirror_mode": {
    "name": "ipython",
    "version": 3
   },
   "file_extension": ".py",
   "mimetype": "text/x-python",
   "name": "python",
   "nbconvert_exporter": "python",
   "pygments_lexer": "ipython3",
   "version": "3.10.12"
  }
 },
 "nbformat": 4,
 "nbformat_minor": 2
}
